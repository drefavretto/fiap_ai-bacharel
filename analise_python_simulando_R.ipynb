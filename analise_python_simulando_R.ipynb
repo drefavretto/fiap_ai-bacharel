{
  "cells": [
    {
      "cell_type": "markdown",
      "metadata": {
        "id": "view-in-github",
        "colab_type": "text"
      },
      "source": [
        "<a href=\"https://colab.research.google.com/github/drefavretto/fiap_ai-bacharel/blob/main/analise_python_simulando_R.ipynb\" target=\"_parent\"><img src=\"https://colab.research.google.com/assets/colab-badge.svg\" alt=\"Open In Colab\"/></a>"
      ]
    },
    {
      "cell_type": "code",
      "source": [
        "# -*- coding: utf-8 -*-\n",
        "#\n",
        "# Aplicação em Python para análise estatística básica, substituindo o script R.\n",
        "# Este script lê os dados de um arquivo CSV e calcula a média e o desvio padrão.\n",
        "\n",
        "import pandas as pd\n",
        "import numpy as np\n",
        "import os\n",
        "\n",
        "def limpar_tela():\n",
        "    \"\"\"Limpa o console para uma melhor visualização.\"\"\"\n",
        "    os.system('cls' if os.name == 'nt' else 'clear')\n",
        "\n",
        "def main():\n",
        "    \"\"\"Função principal que executa a análise estatística.\"\"\"\n",
        "    limpar_tela()\n",
        "    print(\"--- Análise Estatística da Produção ---\")\n",
        "\n",
        "    nome_arquivo = \"dados_farmtech.csv\"\n",
        "\n",
        "    # Tenta ler o arquivo CSV\n",
        "    if not os.path.exists(nome_arquivo):\n",
        "        print(f\"Erro: O arquivo '{nome_arquivo}' não foi encontrado.\")\n",
        "        print(\"Por favor, certifique-se de que você exportou os dados da sua aplicação principal em Python e fez o upload do arquivo para o ambiente do Colab.\")\n",
        "        return\n",
        "\n",
        "    try:\n",
        "        # Lê o arquivo CSV usando a biblioteca pandas\n",
        "        df = pd.read_csv(nome_arquivo, encoding='utf-8')\n",
        "    except Exception as e:\n",
        "        print(f\"Erro ao ler o arquivo CSV: {e}\")\n",
        "        return\n",
        "\n",
        "    # Separar os dados por cultura\n",
        "    df_cana = df[df['cultura'] == 'cana de açúcar']\n",
        "    df_soja = df[df['cultura'] == 'soja']\n",
        "\n",
        "    print(\"\\nAnálise Estatística:\\n\")\n",
        "    print(\"=\" * 40)\n",
        "\n",
        "    # -------------------------------------------------------------------\n",
        "    # Cálculo e exibição de estatísticas para a Cana de Açúcar\n",
        "    # -------------------------------------------------------------------\n",
        "    if len(df_cana) > 1:\n",
        "        media_cana = np.mean(df_cana['insumo_necessario'])\n",
        "        desvio_cana = np.std(df_cana['insumo_necessario'])\n",
        "\n",
        "        print(\"Estatísticas para Insumos de Cana de Açúcar:\")\n",
        "        print(\"-\" * 37)\n",
        "        print(f\"Média de litros por plantio: {media_cana:.2f} Lts\")\n",
        "        print(f\"Desvio padrão dos litros: {desvio_cana:.2f} Lts\\n\")\n",
        "    else:\n",
        "        print(\"Não há dados suficientes (pelo menos 2) de Cana de Açúcar para análise estatística.\\n\")\n",
        "\n",
        "    # -------------------------------------------------------------------\n",
        "    # Cálculo e exibição de estatísticas para a Soja\n",
        "    # -------------------------------------------------------------------\n",
        "    if len(df_soja) > 1:\n",
        "        media_soja = np.mean(df_soja['insumo_necessario'])\n",
        "        desvio_soja = np.std(df_soja['insumo_necessario'])\n",
        "\n",
        "        print(\"Estatísticas para Insumos de Soja:\")\n",
        "        print(\"-\" * 37)\n",
        "        print(f\"Média de kg por plantio: {media_soja:.2f} Kgs\")\n",
        "        print(f\"Desvio padrão dos kg: {desvio_soja:.2f} Kgs\\n\")\n",
        "    else:\n",
        "        print(\"Não há dados suficientes (pelo menos 2) de Soja para análise estatística.\\n\")\n",
        "\n",
        "if __name__ == \"__main__\":\n",
        "    main()"
      ],
      "outputs": [
        {
          "output_type": "stream",
          "name": "stdout",
          "text": [
            "--- Análise Estatística da Produção ---\n",
            "\n",
            "Análise Estatística:\n",
            "\n",
            "========================================\n",
            "Estatísticas para Insumos de Cana de Açúcar:\n",
            "-------------------------------------\n",
            "Média de litros por plantio: 14250000.00 Lts\n",
            "Desvio padrão dos litros: 9750000.00 Lts\n",
            "\n",
            "Estatísticas para Insumos de Soja:\n",
            "-------------------------------------\n",
            "Média de kg por plantio: 19500000.00 Kgs\n",
            "Desvio padrão dos kg: 4500000.00 Kgs\n",
            "\n"
          ]
        }
      ],
      "execution_count": 1,
      "metadata": {
        "colab": {
          "base_uri": "https://localhost:8080/"
        },
        "id": "i8IhCkyIlRWL",
        "outputId": "24627412-f621-453f-e0b3-9814ba2888a2"
      }
    }
  ],
  "metadata": {
    "colab": {
      "provenance": [],
      "include_colab_link": true
    },
    "kernelspec": {
      "display_name": "Python 3",
      "name": "python3"
    }
  },
  "nbformat": 4,
  "nbformat_minor": 0
}